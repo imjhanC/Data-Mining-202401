{
 "cells": [
  {
   "cell_type": "code",
   "execution_count": 1,
   "metadata": {},
   "outputs": [
    {
     "name": "stderr",
     "output_type": "stream",
     "text": [
      "C:\\Users\\cheng\\AppData\\Local\\Temp\\ipykernel_10808\\894975284.py:2: DeprecationWarning: \n",
      "Pyarrow will become a required dependency of pandas in the next major release of pandas (pandas 3.0),\n",
      "(to allow more performant data types, such as the Arrow string type, and better interoperability with other libraries)\n",
      "but was not found to be installed on your system.\n",
      "If this would cause problems for you,\n",
      "please provide us feedback at https://github.com/pandas-dev/pandas/issues/54466\n",
      "        \n",
      "  import pandas as pd\n"
     ]
    }
   ],
   "source": [
    "#Import modules and load using pandas\n",
    "import pandas as pd\n",
    "import numpy as np\n",
    "import seaborn as sns\n",
    "from matplotlib import pyplot as plt\n",
    "import matplotlib as plt\n",
    "%matplotlib inline\n"
   ]
  },
  {
   "cell_type": "code",
   "execution_count": 2,
   "metadata": {},
   "outputs": [
    {
     "data": {
      "text/html": [
       "<div>\n",
       "<style scoped>\n",
       "    .dataframe tbody tr th:only-of-type {\n",
       "        vertical-align: middle;\n",
       "    }\n",
       "\n",
       "    .dataframe tbody tr th {\n",
       "        vertical-align: top;\n",
       "    }\n",
       "\n",
       "    .dataframe thead th {\n",
       "        text-align: right;\n",
       "    }\n",
       "</style>\n",
       "<table border=\"1\" class=\"dataframe\">\n",
       "  <thead>\n",
       "    <tr style=\"text-align: right;\">\n",
       "      <th></th>\n",
       "      <th>LoanID</th>\n",
       "      <th>Age</th>\n",
       "      <th>Income</th>\n",
       "      <th>LoanAmount</th>\n",
       "      <th>CreditScore</th>\n",
       "      <th>MonthsEmployed</th>\n",
       "      <th>NumCreditLines</th>\n",
       "      <th>InterestRate</th>\n",
       "      <th>LoanTerm</th>\n",
       "      <th>DTIRatio</th>\n",
       "      <th>Education</th>\n",
       "      <th>EmploymentType</th>\n",
       "      <th>MaritalStatus</th>\n",
       "      <th>HasMortgage</th>\n",
       "      <th>HasDependents</th>\n",
       "      <th>LoanPurpose</th>\n",
       "      <th>HasCoSigner</th>\n",
       "      <th>Default</th>\n",
       "    </tr>\n",
       "  </thead>\n",
       "  <tbody>\n",
       "    <tr>\n",
       "      <th>0</th>\n",
       "      <td>IA35XVH6ZO</td>\n",
       "      <td>28</td>\n",
       "      <td>140466</td>\n",
       "      <td>163781</td>\n",
       "      <td>652</td>\n",
       "      <td>94</td>\n",
       "      <td>2</td>\n",
       "      <td>9.08</td>\n",
       "      <td>48</td>\n",
       "      <td>0.23</td>\n",
       "      <td>High School</td>\n",
       "      <td>Unemployed</td>\n",
       "      <td>Married</td>\n",
       "      <td>No</td>\n",
       "      <td>No</td>\n",
       "      <td>Education</td>\n",
       "      <td>No</td>\n",
       "      <td>0</td>\n",
       "    </tr>\n",
       "    <tr>\n",
       "      <th>1</th>\n",
       "      <td>Y8UETC3LSG</td>\n",
       "      <td>28</td>\n",
       "      <td>149227</td>\n",
       "      <td>139759</td>\n",
       "      <td>375</td>\n",
       "      <td>56</td>\n",
       "      <td>3</td>\n",
       "      <td>5.84</td>\n",
       "      <td>36</td>\n",
       "      <td>0.80</td>\n",
       "      <td>PhD</td>\n",
       "      <td>Full-time</td>\n",
       "      <td>Divorced</td>\n",
       "      <td>No</td>\n",
       "      <td>No</td>\n",
       "      <td>Education</td>\n",
       "      <td>Yes</td>\n",
       "      <td>1</td>\n",
       "    </tr>\n",
       "    <tr>\n",
       "      <th>2</th>\n",
       "      <td>RM6QSRHIYP</td>\n",
       "      <td>41</td>\n",
       "      <td>23265</td>\n",
       "      <td>63527</td>\n",
       "      <td>829</td>\n",
       "      <td>87</td>\n",
       "      <td>4</td>\n",
       "      <td>9.73</td>\n",
       "      <td>60</td>\n",
       "      <td>0.45</td>\n",
       "      <td>Master's</td>\n",
       "      <td>Full-time</td>\n",
       "      <td>Divorced</td>\n",
       "      <td>Yes</td>\n",
       "      <td>No</td>\n",
       "      <td>Auto</td>\n",
       "      <td>Yes</td>\n",
       "      <td>0</td>\n",
       "    </tr>\n",
       "    <tr>\n",
       "      <th>3</th>\n",
       "      <td>GX5YQOGROM</td>\n",
       "      <td>53</td>\n",
       "      <td>117550</td>\n",
       "      <td>95744</td>\n",
       "      <td>395</td>\n",
       "      <td>112</td>\n",
       "      <td>4</td>\n",
       "      <td>3.58</td>\n",
       "      <td>24</td>\n",
       "      <td>0.73</td>\n",
       "      <td>High School</td>\n",
       "      <td>Unemployed</td>\n",
       "      <td>Single</td>\n",
       "      <td>No</td>\n",
       "      <td>No</td>\n",
       "      <td>Auto</td>\n",
       "      <td>Yes</td>\n",
       "      <td>0</td>\n",
       "    </tr>\n",
       "    <tr>\n",
       "      <th>4</th>\n",
       "      <td>X0BVPZLDC0</td>\n",
       "      <td>57</td>\n",
       "      <td>139699</td>\n",
       "      <td>88143</td>\n",
       "      <td>635</td>\n",
       "      <td>112</td>\n",
       "      <td>4</td>\n",
       "      <td>5.63</td>\n",
       "      <td>48</td>\n",
       "      <td>0.20</td>\n",
       "      <td>Master's</td>\n",
       "      <td>Part-time</td>\n",
       "      <td>Divorced</td>\n",
       "      <td>No</td>\n",
       "      <td>No</td>\n",
       "      <td>Home</td>\n",
       "      <td>No</td>\n",
       "      <td>0</td>\n",
       "    </tr>\n",
       "  </tbody>\n",
       "</table>\n",
       "</div>"
      ],
      "text/plain": [
       "       LoanID  Age  Income  LoanAmount  CreditScore  MonthsEmployed  \\\n",
       "0  IA35XVH6ZO   28  140466      163781          652              94   \n",
       "1  Y8UETC3LSG   28  149227      139759          375              56   \n",
       "2  RM6QSRHIYP   41   23265       63527          829              87   \n",
       "3  GX5YQOGROM   53  117550       95744          395             112   \n",
       "4  X0BVPZLDC0   57  139699       88143          635             112   \n",
       "\n",
       "   NumCreditLines  InterestRate  LoanTerm  DTIRatio    Education  \\\n",
       "0               2          9.08        48      0.23  High School   \n",
       "1               3          5.84        36      0.80          PhD   \n",
       "2               4          9.73        60      0.45     Master's   \n",
       "3               4          3.58        24      0.73  High School   \n",
       "4               4          5.63        48      0.20     Master's   \n",
       "\n",
       "  EmploymentType MaritalStatus HasMortgage HasDependents LoanPurpose  \\\n",
       "0     Unemployed       Married          No            No   Education   \n",
       "1      Full-time      Divorced          No            No   Education   \n",
       "2      Full-time      Divorced         Yes            No        Auto   \n",
       "3     Unemployed        Single          No            No        Auto   \n",
       "4      Part-time      Divorced          No            No        Home   \n",
       "\n",
       "  HasCoSigner  Default  \n",
       "0          No        0  \n",
       "1         Yes        1  \n",
       "2         Yes        0  \n",
       "3         Yes        0  \n",
       "4          No        0  "
      ]
     },
     "execution_count": 2,
     "metadata": {},
     "output_type": "execute_result"
    }
   ],
   "source": [
    "df = pd.read_csv(\"BankLoanApproval.csv\")\n",
    "df.head()"
   ]
  },
  {
   "cell_type": "code",
   "execution_count": 3,
   "metadata": {},
   "outputs": [
    {
     "data": {
      "text/plain": [
       "array(['No', 'Yes'], dtype=object)"
      ]
     },
     "execution_count": 3,
     "metadata": {},
     "output_type": "execute_result"
    }
   ],
   "source": [
    "df['HasDependents'].unique()"
   ]
  },
  {
   "cell_type": "code",
   "execution_count": 4,
   "metadata": {},
   "outputs": [
    {
     "name": "stderr",
     "output_type": "stream",
     "text": [
      "C:\\Users\\cheng\\AppData\\Local\\Temp\\ipykernel_10808\\2144725232.py:19: SettingWithCopyWarning: \n",
      "A value is trying to be set on a copy of a slice from a DataFrame.\n",
      "Try using .loc[row_indexer,col_indexer] = value instead\n",
      "\n",
      "See the caveats in the documentation: https://pandas.pydata.org/pandas-docs/stable/user_guide/indexing.html#returning-a-view-versus-a-copy\n",
      "  selected_columns['Education'] = selected_columns['Education'].map(education_mapping)\n",
      "C:\\Users\\cheng\\AppData\\Local\\Temp\\ipykernel_10808\\2144725232.py:22: SettingWithCopyWarning: \n",
      "A value is trying to be set on a copy of a slice from a DataFrame.\n",
      "Try using .loc[row_indexer,col_indexer] = value instead\n",
      "\n",
      "See the caveats in the documentation: https://pandas.pydata.org/pandas-docs/stable/user_guide/indexing.html#returning-a-view-versus-a-copy\n",
      "  selected_columns['EmploymentType'] = selected_columns['EmploymentType'].map(employment_mapping)\n",
      "C:\\Users\\cheng\\AppData\\Local\\Temp\\ipykernel_10808\\2144725232.py:25: SettingWithCopyWarning: \n",
      "A value is trying to be set on a copy of a slice from a DataFrame.\n",
      "Try using .loc[row_indexer,col_indexer] = value instead\n",
      "\n",
      "See the caveats in the documentation: https://pandas.pydata.org/pandas-docs/stable/user_guide/indexing.html#returning-a-view-versus-a-copy\n",
      "  selected_columns['MaritalStatus'] = selected_columns['MaritalStatus'].map(marital_mapping)\n",
      "C:\\Users\\cheng\\AppData\\Local\\Temp\\ipykernel_10808\\2144725232.py:28: SettingWithCopyWarning: \n",
      "A value is trying to be set on a copy of a slice from a DataFrame.\n",
      "Try using .loc[row_indexer,col_indexer] = value instead\n",
      "\n",
      "See the caveats in the documentation: https://pandas.pydata.org/pandas-docs/stable/user_guide/indexing.html#returning-a-view-versus-a-copy\n",
      "  selected_columns['HasMortgage'] = selected_columns['HasMortgage'].map(mortgage_mapping)\n",
      "C:\\Users\\cheng\\AppData\\Local\\Temp\\ipykernel_10808\\2144725232.py:30: SettingWithCopyWarning: \n",
      "A value is trying to be set on a copy of a slice from a DataFrame.\n",
      "Try using .loc[row_indexer,col_indexer] = value instead\n",
      "\n",
      "See the caveats in the documentation: https://pandas.pydata.org/pandas-docs/stable/user_guide/indexing.html#returning-a-view-versus-a-copy\n",
      "  selected_columns['HasDependents'] = selected_columns['HasDependents'].map(dependent_mapping)\n",
      "C:\\Users\\cheng\\AppData\\Local\\Temp\\ipykernel_10808\\2144725232.py:32: SettingWithCopyWarning: \n",
      "A value is trying to be set on a copy of a slice from a DataFrame.\n",
      "Try using .loc[row_indexer,col_indexer] = value instead\n",
      "\n",
      "See the caveats in the documentation: https://pandas.pydata.org/pandas-docs/stable/user_guide/indexing.html#returning-a-view-versus-a-copy\n",
      "  selected_columns['LoanPurpose'] = selected_columns['LoanPurpose'].map(loan_mapping)\n",
      "C:\\Users\\cheng\\AppData\\Local\\Temp\\ipykernel_10808\\2144725232.py:34: SettingWithCopyWarning: \n",
      "A value is trying to be set on a copy of a slice from a DataFrame.\n",
      "Try using .loc[row_indexer,col_indexer] = value instead\n",
      "\n",
      "See the caveats in the documentation: https://pandas.pydata.org/pandas-docs/stable/user_guide/indexing.html#returning-a-view-versus-a-copy\n",
      "  selected_columns['HasCoSigner'] = selected_columns['HasCoSigner'].map(cosigner_mapping)\n"
     ]
    },
    {
     "data": {
      "text/html": [
       "<div>\n",
       "<style scoped>\n",
       "    .dataframe tbody tr th:only-of-type {\n",
       "        vertical-align: middle;\n",
       "    }\n",
       "\n",
       "    .dataframe tbody tr th {\n",
       "        vertical-align: top;\n",
       "    }\n",
       "\n",
       "    .dataframe thead th {\n",
       "        text-align: right;\n",
       "    }\n",
       "</style>\n",
       "<table border=\"1\" class=\"dataframe\">\n",
       "  <thead>\n",
       "    <tr style=\"text-align: right;\">\n",
       "      <th></th>\n",
       "      <th>Age</th>\n",
       "      <th>Income</th>\n",
       "      <th>LoanAmount</th>\n",
       "      <th>CreditScore</th>\n",
       "      <th>MonthsEmployed</th>\n",
       "      <th>NumCreditLines</th>\n",
       "      <th>InterestRate</th>\n",
       "      <th>LoanTerm</th>\n",
       "      <th>DTIRatio</th>\n",
       "      <th>Education</th>\n",
       "      <th>EmploymentType</th>\n",
       "      <th>MaritalStatus</th>\n",
       "      <th>HasMortgage</th>\n",
       "      <th>HasDependents</th>\n",
       "      <th>LoanPurpose</th>\n",
       "      <th>HasCoSigner</th>\n",
       "      <th>Default</th>\n",
       "    </tr>\n",
       "  </thead>\n",
       "  <tbody>\n",
       "    <tr>\n",
       "      <th>0</th>\n",
       "      <td>28</td>\n",
       "      <td>140466</td>\n",
       "      <td>163781</td>\n",
       "      <td>652</td>\n",
       "      <td>94</td>\n",
       "      <td>2</td>\n",
       "      <td>9.08</td>\n",
       "      <td>48</td>\n",
       "      <td>0.23</td>\n",
       "      <td>0</td>\n",
       "      <td>0</td>\n",
       "      <td>1</td>\n",
       "      <td>0</td>\n",
       "      <td>0</td>\n",
       "      <td>0</td>\n",
       "      <td>0</td>\n",
       "      <td>0</td>\n",
       "    </tr>\n",
       "    <tr>\n",
       "      <th>1</th>\n",
       "      <td>28</td>\n",
       "      <td>149227</td>\n",
       "      <td>139759</td>\n",
       "      <td>375</td>\n",
       "      <td>56</td>\n",
       "      <td>3</td>\n",
       "      <td>5.84</td>\n",
       "      <td>36</td>\n",
       "      <td>0.80</td>\n",
       "      <td>3</td>\n",
       "      <td>2</td>\n",
       "      <td>2</td>\n",
       "      <td>0</td>\n",
       "      <td>0</td>\n",
       "      <td>0</td>\n",
       "      <td>1</td>\n",
       "      <td>1</td>\n",
       "    </tr>\n",
       "    <tr>\n",
       "      <th>2</th>\n",
       "      <td>41</td>\n",
       "      <td>23265</td>\n",
       "      <td>63527</td>\n",
       "      <td>829</td>\n",
       "      <td>87</td>\n",
       "      <td>4</td>\n",
       "      <td>9.73</td>\n",
       "      <td>60</td>\n",
       "      <td>0.45</td>\n",
       "      <td>2</td>\n",
       "      <td>2</td>\n",
       "      <td>2</td>\n",
       "      <td>1</td>\n",
       "      <td>0</td>\n",
       "      <td>1</td>\n",
       "      <td>1</td>\n",
       "      <td>0</td>\n",
       "    </tr>\n",
       "    <tr>\n",
       "      <th>3</th>\n",
       "      <td>53</td>\n",
       "      <td>117550</td>\n",
       "      <td>95744</td>\n",
       "      <td>395</td>\n",
       "      <td>112</td>\n",
       "      <td>4</td>\n",
       "      <td>3.58</td>\n",
       "      <td>24</td>\n",
       "      <td>0.73</td>\n",
       "      <td>0</td>\n",
       "      <td>0</td>\n",
       "      <td>0</td>\n",
       "      <td>0</td>\n",
       "      <td>0</td>\n",
       "      <td>1</td>\n",
       "      <td>1</td>\n",
       "      <td>0</td>\n",
       "    </tr>\n",
       "    <tr>\n",
       "      <th>4</th>\n",
       "      <td>57</td>\n",
       "      <td>139699</td>\n",
       "      <td>88143</td>\n",
       "      <td>635</td>\n",
       "      <td>112</td>\n",
       "      <td>4</td>\n",
       "      <td>5.63</td>\n",
       "      <td>48</td>\n",
       "      <td>0.20</td>\n",
       "      <td>2</td>\n",
       "      <td>1</td>\n",
       "      <td>2</td>\n",
       "      <td>0</td>\n",
       "      <td>0</td>\n",
       "      <td>2</td>\n",
       "      <td>0</td>\n",
       "      <td>0</td>\n",
       "    </tr>\n",
       "  </tbody>\n",
       "</table>\n",
       "</div>"
      ],
      "text/plain": [
       "   Age  Income  LoanAmount  CreditScore  MonthsEmployed  NumCreditLines  \\\n",
       "0   28  140466      163781          652              94               2   \n",
       "1   28  149227      139759          375              56               3   \n",
       "2   41   23265       63527          829              87               4   \n",
       "3   53  117550       95744          395             112               4   \n",
       "4   57  139699       88143          635             112               4   \n",
       "\n",
       "   InterestRate  LoanTerm  DTIRatio  Education  EmploymentType  MaritalStatus  \\\n",
       "0          9.08        48      0.23          0               0              1   \n",
       "1          5.84        36      0.80          3               2              2   \n",
       "2          9.73        60      0.45          2               2              2   \n",
       "3          3.58        24      0.73          0               0              0   \n",
       "4          5.63        48      0.20          2               1              2   \n",
       "\n",
       "   HasMortgage  HasDependents  LoanPurpose  HasCoSigner  Default  \n",
       "0            0              0            0            0        0  \n",
       "1            0              0            0            1        1  \n",
       "2            1              0            1            1        0  \n",
       "3            0              0            1            1        0  \n",
       "4            0              0            2            0        0  "
      ]
     },
     "execution_count": 4,
     "metadata": {},
     "output_type": "execute_result"
    }
   ],
   "source": [
    "# Mapping the categorical to numerical \n",
    "# Selecting variables \n",
    "# Dropped the LoanID\n",
    "# Define the mappings\n",
    "education_mapping = {'High School': 0, \"Bachelor's\": 1, \"Master's\": 2, 'PhD': 3}\n",
    "employment_mapping = {'Unemployed': 0, 'Part-time': 1, 'Full-time': 2, 'Self-employed': 3}\n",
    "marital_mapping = {'Single': 0, 'Married': 1, 'Divorced': 2}\n",
    "mortgage_mapping = {'Yes': 1, 'No': 0}\n",
    "dependent_mapping ={'Yes': 1, 'No':0}\n",
    "loan_mapping ={'Education':0, 'Auto':1, 'Home':2, 'Other':3, 'Business':4}\n",
    "cosigner_mapping={'Yes': 1, 'No':0}\n",
    "\n",
    "# Select the specified columns\n",
    "selected_columns = df[[\"Age\", \"Income\", \"LoanAmount\", \"CreditScore\",\"MonthsEmployed\",\"NumCreditLines\",\"InterestRate\",\"LoanTerm\",\"DTIRatio\", \n",
    "                       \"Education\", \"EmploymentType\", \"MaritalStatus\", \n",
    "                       \"HasMortgage\",\"HasDependents\",\"LoanPurpose\",\"HasCoSigner\",\"Default\"]]\n",
    "\n",
    "# Map the education column\n",
    "selected_columns['Education'] = selected_columns['Education'].map(education_mapping)\n",
    "\n",
    "# Map the employment column\n",
    "selected_columns['EmploymentType'] = selected_columns['EmploymentType'].map(employment_mapping)\n",
    "\n",
    "# Map the marital status column\n",
    "selected_columns['MaritalStatus'] = selected_columns['MaritalStatus'].map(marital_mapping)\n",
    "\n",
    "# Map the HasMortgage column\n",
    "selected_columns['HasMortgage'] = selected_columns['HasMortgage'].map(mortgage_mapping)\n",
    "\n",
    "selected_columns['HasDependents'] = selected_columns['HasDependents'].map(dependent_mapping)\n",
    "\n",
    "selected_columns['LoanPurpose'] = selected_columns['LoanPurpose'].map(loan_mapping)\n",
    "\n",
    "selected_columns['HasCoSigner'] = selected_columns['HasCoSigner'].map(cosigner_mapping)\n",
    "\n",
    "df =selected_columns\n",
    "df.head()"
   ]
  },
  {
   "cell_type": "code",
   "execution_count": 5,
   "metadata": {},
   "outputs": [
    {
     "data": {
      "text/plain": [
       "((204261, 16), (51066, 16), (204261,), (51066,))"
      ]
     },
     "execution_count": 5,
     "metadata": {},
     "output_type": "execute_result"
    }
   ],
   "source": [
    "from sklearn.model_selection import train_test_split \n",
    "  \n",
    "X = df.drop(['Default'],axis=1) \n",
    "Y = df['Default'] \n",
    "X.shape,Y.shape \n",
    "  \n",
    "X_train, X_test, Y_train, Y_test = train_test_split(X, Y, \n",
    "                                                    test_size=0.2, \n",
    "                                                    random_state=42) \n",
    "X_train.shape, X_test.shape, Y_train.shape, Y_test.shape"
   ]
  },
  {
   "cell_type": "code",
   "execution_count": 6,
   "metadata": {},
   "outputs": [],
   "source": [
    "from sklearn.preprocessing import StandardScaler\n",
    "scaler =  StandardScaler() \n",
    "scaler.fit(X_train)\n",
    "X_train = scaler.transform(X_train)\n",
    "X_test = scaler.transform(X_test)\n"
   ]
  },
  {
   "cell_type": "code",
   "execution_count": 8,
   "metadata": {},
   "outputs": [
    {
     "data": {
      "text/plain": [
       "array([0, 0, 0, ..., 0, 0, 0], dtype=int64)"
      ]
     },
     "execution_count": 8,
     "metadata": {},
     "output_type": "execute_result"
    }
   ],
   "source": [
    "from sklearn.neighbors import KNeighborsClassifier\n",
    "knn = KNeighborsClassifier(n_neighbors= 5)\n",
    "knn.fit(X_train,Y_train)\n",
    "y_pred = knn.predict(X_test)\n",
    "y_pred"
   ]
  },
  {
   "cell_type": "code",
   "execution_count": 9,
   "metadata": {},
   "outputs": [
    {
     "name": "stdout",
     "output_type": "stream",
     "text": [
      "[[44180   870]\n",
      " [ 5637   379]]\n"
     ]
    }
   ],
   "source": [
    "from sklearn.metrics import ConfusionMatrixDisplay,confusion_matrix,classification_report,accuracy_score\n",
    "lab=['0','1']\n",
    "con = confusion_matrix(Y_test,y_pred)\n",
    "print(con)\n"
   ]
  },
  {
   "cell_type": "code",
   "execution_count": 10,
   "metadata": {},
   "outputs": [
    {
     "data": {
      "text/plain": [
       "<sklearn.metrics._plot.confusion_matrix.ConfusionMatrixDisplay at 0x1cc21423a10>"
      ]
     },
     "execution_count": 10,
     "metadata": {},
     "output_type": "execute_result"
    },
    {
     "data": {
      "image/png": "[encoded data removed]",
      "text/plain": [
       "<Figure size 640x480 with 2 Axes>"
      ]
     },
     "metadata": {},
     "output_type": "display_data"
    }
   ],
   "source": [
    "dis=ConfusionMatrixDisplay(con,display_labels=lab)\n",
    "dis.plot()"
   ]
  },
  {
   "cell_type": "code",
   "execution_count": 11,
   "metadata": {},
   "outputs": [
    {
     "data": {
      "text/plain": [
       "0.8725766654917166"
      ]
     },
     "execution_count": 11,
     "metadata": {},
     "output_type": "execute_result"
    }
   ],
   "source": [
    "score = accuracy_score(Y_test,y_pred)\n",
    "score"
   ]
  },
  {
   "cell_type": "code",
   "execution_count": 12,
   "metadata": {},
   "outputs": [
    {
     "name": "stdout",
     "output_type": "stream",
     "text": [
      "              precision    recall  f1-score   support\n",
      "\n",
      "           0       0.89      0.98      0.93     45050\n",
      "           1       0.30      0.06      0.10      6016\n",
      "\n",
      "    accuracy                           0.87     51066\n",
      "   macro avg       0.60      0.52      0.52     51066\n",
      "weighted avg       0.82      0.87      0.83     51066\n",
      "\n"
     ]
    }
   ],
   "source": [
    "print(classification_report(Y_test,y_pred))"
   ]
  }
 ],
 "metadata": {
  "kernelspec": {
   "display_name": "Python 3",
   "language": "python",
   "name": "python3"
  },
  "language_info": {
   "codemirror_mode": {
    "name": "ipython",
    "version": 3
   },
   "file_extension": ".py",
   "mimetype": "text/x-python",
   "name": "python",
   "nbconvert_exporter": "python",
   "pygments_lexer": "ipython3",
   "version": "3.12.0"
  }
 },
 "nbformat": 4,
 "nbformat_minor": 2
}
