{
 "cells": [
  {
   "cell_type": "code",
   "execution_count": 1,
   "metadata": {},
   "outputs": [
    {
     "name": "stderr",
     "output_type": "stream",
     "text": [
      "C:\\Users\\user\\AppData\\Local\\Temp\\ipykernel_2500\\2849166190.py:1: DeprecationWarning: \n",
      "Pyarrow will become a required dependency of pandas in the next major release of pandas (pandas 3.0),\n",
      "(to allow more performant data types, such as the Arrow string type, and better interoperability with other libraries)\n",
      "but was not found to be installed on your system.\n",
      "If this would cause problems for you,\n",
      "please provide us feedback at https://github.com/pandas-dev/pandas/issues/54466\n",
      "        \n",
      "  import pandas as pd\n",
      "C:\\Users\\user\\AppData\\Local\\Temp\\ipykernel_2500\\2849166190.py:18: SettingWithCopyWarning: \n",
      "A value is trying to be set on a copy of a slice from a DataFrame.\n",
      "Try using .loc[row_indexer,col_indexer] = value instead\n",
      "\n",
      "See the caveats in the documentation: https://pandas.pydata.org/pandas-docs/stable/user_guide/indexing.html#returning-a-view-versus-a-copy\n",
      "  selected_columns['Education'] = selected_columns['Education'].map(education_mapping)\n",
      "C:\\Users\\user\\AppData\\Local\\Temp\\ipykernel_2500\\2849166190.py:21: SettingWithCopyWarning: \n",
      "A value is trying to be set on a copy of a slice from a DataFrame.\n",
      "Try using .loc[row_indexer,col_indexer] = value instead\n",
      "\n",
      "See the caveats in the documentation: https://pandas.pydata.org/pandas-docs/stable/user_guide/indexing.html#returning-a-view-versus-a-copy\n",
      "  selected_columns['EmploymentType'] = selected_columns['EmploymentType'].map(employment_mapping)\n",
      "C:\\Users\\user\\AppData\\Local\\Temp\\ipykernel_2500\\2849166190.py:24: SettingWithCopyWarning: \n",
      "A value is trying to be set on a copy of a slice from a DataFrame.\n",
      "Try using .loc[row_indexer,col_indexer] = value instead\n",
      "\n",
      "See the caveats in the documentation: https://pandas.pydata.org/pandas-docs/stable/user_guide/indexing.html#returning-a-view-versus-a-copy\n",
      "  selected_columns['MaritalStatus'] = selected_columns['MaritalStatus'].map(marital_mapping)\n",
      "C:\\Users\\user\\AppData\\Local\\Temp\\ipykernel_2500\\2849166190.py:27: SettingWithCopyWarning: \n",
      "A value is trying to be set on a copy of a slice from a DataFrame.\n",
      "Try using .loc[row_indexer,col_indexer] = value instead\n",
      "\n",
      "See the caveats in the documentation: https://pandas.pydata.org/pandas-docs/stable/user_guide/indexing.html#returning-a-view-versus-a-copy\n",
      "  selected_columns['HasMortgage'] = selected_columns['HasMortgage'].map(mortgage_mapping)\n"
     ]
    }
   ],
   "source": [
    "import pandas as pd\n",
    "\n",
    "# Read the original CSV file\n",
    "df = pd.read_csv(\"NewApplicants.csv\")\n",
    "\n",
    "# Define the mappings\n",
    "education_mapping = {'High School': 0, \"Bachelor's\": 1, \"Master's\": 2, 'PhD': 3}\n",
    "employment_mapping = {'Unemployed': 0, 'Part-time': 1, 'Full-time': 2, 'Self-employed': 3}\n",
    "marital_mapping = {'Single': 0, 'Married': 1, 'Divorced': 2}\n",
    "mortgage_mapping = {'Yes': 1, 'No': 0}\n",
    "\n",
    "# Select the specified columns\n",
    "selected_columns = df[[\"Age\", \"Income\", \"LoanAmount\", \"CreditScore\", \"DTIRatio\", \n",
    "                       \"Education\", \"EmploymentType\", \"MaritalStatus\", \n",
    "                       \"HasMortgage\"]]\n",
    "\n",
    "# Map the education column\n",
    "selected_columns['Education'] = selected_columns['Education'].map(education_mapping)\n",
    "\n",
    "# Map the employment column\n",
    "selected_columns['EmploymentType'] = selected_columns['EmploymentType'].map(employment_mapping)\n",
    "\n",
    "# Map the marital status column\n",
    "selected_columns['MaritalStatus'] = selected_columns['MaritalStatus'].map(marital_mapping)\n",
    "\n",
    "# Map the HasMortgage column\n",
    "selected_columns['HasMortgage'] = selected_columns['HasMortgage'].map(mortgage_mapping)\n",
    "\n",
    "# Write the selected columns to a new CSV file\n",
    "selected_columns.to_csv(\"sortedNewApplicants.csv\", index=False)\n"
   ]
  }
 ],
 "metadata": {
  "kernelspec": {
   "display_name": "Python 3",
   "language": "python",
   "name": "python3"
  },
  "language_info": {
   "codemirror_mode": {
    "name": "ipython",
    "version": 3
   },
   "file_extension": ".py",
   "mimetype": "text/x-python",
   "name": "python",
   "nbconvert_exporter": "python",
   "pygments_lexer": "ipython3",
   "version": "3.11.5"
  }
 },
 "nbformat": 4,
 "nbformat_minor": 2
}
