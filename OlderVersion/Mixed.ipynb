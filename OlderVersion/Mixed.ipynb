{
 "cells": [
  {
   "cell_type": "code",
   "execution_count": 1,
   "metadata": {},
   "outputs": [
    {
     "name": "stderr",
     "output_type": "stream",
     "text": [
      "C:\\Users\\cheng\\AppData\\Local\\Temp\\ipykernel_17796\\2043976013.py:6: DeprecationWarning: \n",
      "Pyarrow will become a required dependency of pandas in the next major release of pandas (pandas 3.0),\n",
      "(to allow more performant data types, such as the Arrow string type, and better interoperability with other libraries)\n",
      "but was not found to be installed on your system.\n",
      "If this would cause problems for you,\n",
      "please provide us feedback at https://github.com/pandas-dev/pandas/issues/54466\n",
      "        \n",
      "  import pandas as pd\n"
     ]
    },
    {
     "name": "stdout",
     "output_type": "stream",
     "text": [
      "Test accuracy: 0.795069126228802\n",
      "New predictions: [0 0 0 1 0 1 0 0 0 0 1 0 0 0 0 0 1 0 0 0]\n"
     ]
    }
   ],
   "source": [
    "# Import necessary libraries\n",
    "from sklearn.model_selection import train_test_split\n",
    "from sklearn.preprocessing import StandardScaler\n",
    "from sklearn.tree import DecisionTreeClassifier  # Changed to DecisionTreeClassifier\n",
    "from sklearn.metrics import accuracy_score\n",
    "import pandas as pd\n",
    "\n",
    "# Load the data\n",
    "data = pd.read_csv(\"sortedBankLoanApproval.csv\")  # load the data here\n",
    "\n",
    "# Extract the features and target\n",
    "X = data.drop('Default', axis=1)\n",
    "y = data['Default']\n",
    "\n",
    "# Split the data into training and test sets\n",
    "X_train, X_test, y_train, y_test = train_test_split(X, y, test_size=0.2, random_state=42)\n",
    "\n",
    "# Scale the features\n",
    "scaler = StandardScaler()\n",
    "X_train = scaler.fit_transform(X_train)\n",
    "X_test = scaler.transform(X_test)\n",
    "\n",
    "# Create the Decision Tree model\n",
    "decision_tree = DecisionTreeClassifier(random_state=42)  # Changed to DecisionTreeClassifier\n",
    "\n",
    "# Train the model\n",
    "decision_tree.fit(X_train, y_train)\n",
    "\n",
    "# Make predictions on the test set\n",
    "y_pred = decision_tree.predict(X_test)\n",
    "\n",
    "# Evaluate the model\n",
    "print('Test accuracy:', accuracy_score(y_test, y_pred))\n",
    "\n",
    "# Make predictions on the new data\n",
    "new_data = pd.read_csv(\"sortedNewApplicants.csv\")\n",
    "new_data = scaler.transform(new_data)\n",
    "new_predictions = decision_tree.predict(new_data)\n",
    "\n",
    "# Print the predictions\n",
    "print('New predictions:', new_predictions)\n"
   ]
  },
  {
   "cell_type": "code",
   "execution_count": 2,
   "metadata": {},
   "outputs": [
    {
     "name": "stdout",
     "output_type": "stream",
     "text": [
      "Test accuracy: 0.8822308385226961\n",
      "New predictions: [0 0 0 0 0 0 0 0 0 0 0 0 0 0 0 0 0 0 0 0]\n"
     ]
    }
   ],
   "source": [
    "# Import necessary libraries\n",
    "from sklearn.model_selection import train_test_split\n",
    "from sklearn.preprocessing import StandardScaler\n",
    "from sklearn.naive_bayes import GaussianNB  # Import Gaussian Naive Bayes\n",
    "from sklearn.metrics import accuracy_score\n",
    "import pandas as pd\n",
    "\n",
    "# Load the data\n",
    "data = pd.read_csv(\"sortedBankLoanApproval.csv\")  # load the data here\n",
    "\n",
    "# Extract the features and target\n",
    "X = data.drop('Default', axis=1)\n",
    "y = data['Default']\n",
    "\n",
    "# Split the data into training and test sets\n",
    "X_train, X_test, y_train, y_test = train_test_split(X, y, test_size=0.2, random_state=42)\n",
    "\n",
    "# Scale the features\n",
    "scaler = StandardScaler()\n",
    "X_train = scaler.fit_transform(X_train)\n",
    "X_test = scaler.transform(X_test)\n",
    "\n",
    "# Create the Naive Bayes model (Gaussian Naive Bayes for continuous features)\n",
    "naive_bayes = GaussianNB()  # Use Gaussian Naive Bayes for continuous features\n",
    "\n",
    "# Train the model\n",
    "naive_bayes.fit(X_train, y_train)\n",
    "\n",
    "# Make predictions on the test set\n",
    "y_pred = naive_bayes.predict(X_test)\n",
    "\n",
    "# Evaluate the model\n",
    "print('Test accuracy:', accuracy_score(y_test, y_pred))\n",
    "\n",
    "# Make predictions on the new data\n",
    "new_data = pd.read_csv(\"sortedNewApplicants.csv\")\n",
    "new_data = scaler.transform(new_data)\n",
    "new_predictions = naive_bayes.predict(new_data)\n",
    "\n",
    "# Print the predictions\n",
    "print('New predictions:', new_predictions)\n"
   ]
  },
  {
   "cell_type": "code",
   "execution_count": 3,
   "metadata": {},
   "outputs": [
    {
     "name": "stdout",
     "output_type": "stream",
     "text": [
      "Test accuracy: 0.8830533035679317\n",
      "New predictions: [0 0 0 0 0 0 0 0 0 0 0 0 0 0 0 0 0 0 0 0]\n"
     ]
    }
   ],
   "source": [
    "# Import necessary libraries\n",
    "from sklearn.model_selection import train_test_split\n",
    "from sklearn.preprocessing import StandardScaler\n",
    "from sklearn.ensemble import RandomForestClassifier  # Import RandomForestClassifier\n",
    "from sklearn.metrics import accuracy_score\n",
    "import pandas as pd\n",
    "\n",
    "# Load the data\n",
    "data = pd.read_csv(\"sortedBankLoanApproval.csv\")  # load the data here\n",
    "\n",
    "# Extract the features and target\n",
    "X = data.drop('Default', axis=1)\n",
    "y = data['Default']\n",
    "\n",
    "# Split the data into training and test sets\n",
    "X_train, X_test, y_train, y_test = train_test_split(X, y, test_size=0.2, random_state=42)\n",
    "\n",
    "# Scale the features\n",
    "scaler = StandardScaler()\n",
    "X_train = scaler.fit_transform(X_train)\n",
    "X_test = scaler.transform(X_test)\n",
    "\n",
    "# Create the Random Forest model\n",
    "random_forest = RandomForestClassifier(n_estimators=100, random_state=42)  # Adjust parameters as needed\n",
    "\n",
    "# Train the model\n",
    "random_forest.fit(X_train, y_train)\n",
    "\n",
    "# Make predictions on the test set\n",
    "y_pred = random_forest.predict(X_test)\n",
    "\n",
    "# Evaluate the model\n",
    "print('Test accuracy:', accuracy_score(y_test, y_pred))\n",
    "\n",
    "# Make predictions on the new data\n",
    "new_data = pd.read_csv(\"sortedNewApplicants.csv\")\n",
    "new_data = scaler.transform(new_data)\n",
    "new_predictions = random_forest.predict(new_data)\n",
    "\n",
    "# Print the predictions\n",
    "print('New predictions:', new_predictions)\n",
    "\n"
   ]
  }
 ],
 "metadata": {
  "kernelspec": {
   "display_name": "Python 3",
   "language": "python",
   "name": "python3"
  },
  "language_info": {
   "codemirror_mode": {
    "name": "ipython",
    "version": 3
   },
   "file_extension": ".py",
   "mimetype": "text/x-python",
   "name": "python",
   "nbconvert_exporter": "python",
   "pygments_lexer": "ipython3",
   "version": "3.12.0"
  }
 },
 "nbformat": 4,
 "nbformat_minor": 2
}
