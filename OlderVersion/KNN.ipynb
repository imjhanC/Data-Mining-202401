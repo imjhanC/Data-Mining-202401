{
 "cells": [
  {
   "cell_type": "code",
   "execution_count": 1,
   "metadata": {},
   "outputs": [
    {
     "name": "stderr",
     "output_type": "stream",
     "text": [
      "C:\\Users\\user\\AppData\\Local\\Temp\\ipykernel_13964\\1768757149.py:6: DeprecationWarning: \n",
      "Pyarrow will become a required dependency of pandas in the next major release of pandas (pandas 3.0),\n",
      "(to allow more performant data types, such as the Arrow string type, and better interoperability with other libraries)\n",
      "but was not found to be installed on your system.\n",
      "If this would cause problems for you,\n",
      "please provide us feedback at https://github.com/pandas-dev/pandas/issues/54466\n",
      "        \n",
      "  import pandas as pd\n"
     ]
    },
    {
     "name": "stdout",
     "output_type": "stream",
     "text": [
      "Test accuracy: 0.8557748795676183\n",
      "New predictions: [0 0 0 0 0 0 0 0 0 0 0 0 0 0 0 0 0 0 0 0]\n"
     ]
    }
   ],
   "source": [
    "# Import necessary libraries\n",
    "from sklearn.model_selection import train_test_split\n",
    "from sklearn.preprocessing import StandardScaler\n",
    "from sklearn.neighbors import KNeighborsClassifier\n",
    "from sklearn.metrics import accuracy_score\n",
    "import pandas as pd\n",
    "\n",
    "# Load the data\n",
    "data = pd.read_csv(\"sortedBankLoanApproval.csv\") # load the data here\n",
    "\n",
    "# Extract the features and target\n",
    "X = data.drop('Default', axis=1)\n",
    "y = data['Default']\n",
    "\n",
    "# Split the data into training and test sets\n",
    "X_train, X_test, y_train, y_test = train_test_split(X, y, test_size=0.2, random_state=42)\n",
    "\n",
    "# Scale the features\n",
    "scaler = StandardScaler()\n",
    "X_train = scaler.fit_transform(X_train)\n",
    "X_test = scaler.transform(X_test)\n",
    "\n",
    "# Create the KNN model\n",
    "knn = KNeighborsClassifier(n_neighbors=3)\n",
    "\n",
    "# Train the model\n",
    "knn.fit(X_train, y_train)\n",
    "\n",
    "# Make predictions on the test set\n",
    "y_pred = knn.predict(X_test)\n",
    "\n",
    "# Evaluate the model\n",
    "print('Test accuracy:', accuracy_score(y_test, y_pred))\n",
    "\n",
    "# Make predictions on the new data\n",
    "new_data = pd.read_csv(\"sortedNewApplicants.csv\")\n",
    "new_data = scaler.transform(new_data)\n",
    "new_predictions = knn.predict(new_data)\n",
    "\n",
    "# Print the predictions\n",
    "print('New predictions:', new_predictions)"
   ]
  },
  {
   "cell_type": "code",
   "execution_count": 3,
   "metadata": {},
   "outputs": [
    {
     "name": "stdout",
     "output_type": "stream",
     "text": [
      "Train accuracy: 0.9050283705651103\n",
      "Test accuracy: 0.8557748795676183\n",
      "New predictions: [0 0 0 0 0 0 0 0 0 0 0 0 0 0 0 0 0 0 0 0]\n"
     ]
    }
   ],
   "source": [
    "# Import necessary libraries\n",
    "from sklearn.model_selection import train_test_split\n",
    "from sklearn.preprocessing import StandardScaler\n",
    "from sklearn.neighbors import KNeighborsClassifier\n",
    "import pandas as pd\n",
    "\n",
    "# Load the data\n",
    "data = pd.read_csv(\"sortedBankLoanApproval.csv\")\n",
    "\n",
    "# Extract the features and target\n",
    "X = data.drop('Default', axis=1)\n",
    "y = data['Default']\n",
    "\n",
    "# Split the data into training and test sets\n",
    "X_train, X_test, y_train, y_test = train_test_split(X, y, test_size=0.2, random_state=42)\n",
    "\n",
    "# Scale the features\n",
    "scaler = StandardScaler()\n",
    "X_train_scaled = scaler.fit_transform(X_train)\n",
    "X_test_scaled = scaler.transform(X_test)\n",
    "\n",
    "# Create and train the KNN model\n",
    "knn = KNeighborsClassifier(n_neighbors=3)\n",
    "knn.fit(X_train_scaled, y_train)\n",
    "\n",
    "# Evaluate the model\n",
    "train_accuracy = knn.score(X_train_scaled, y_train)\n",
    "test_accuracy = knn.score(X_test_scaled, y_test)\n",
    "print('Train accuracy:', train_accuracy)\n",
    "print('Test accuracy:', test_accuracy)\n",
    "\n",
    "# Make predictions on the new data\n",
    "new_data = pd.read_csv(\"sortedNewApplicants.csv\")\n",
    "new_data_scaled = scaler.transform(new_data)\n",
    "new_predictions = knn.predict(new_data_scaled)\n",
    "\n",
    "# Print the predictions\n",
    "print('New predictions:', new_predictions)\n"
   ]
  },
  {
   "cell_type": "code",
   "execution_count": null,
   "metadata": {},
   "outputs": [],
   "source": [
    "# Import necessary libraries\n",
    "import cudf\n",
    "from cuml.model_selection import train_test_split\n",
    "from cuml.preprocessing import StandardScaler\n",
    "from cuml.linear_model import LogisticRegression\n",
    "import pandas as pd\n",
    "\n",
    "# Load the data using cuDF\n",
    "data = cudf.read_csv(\"sortedBankLoanApproval.csv\")\n",
    "\n",
    "# Extract the features and target\n",
    "X = data.drop('Default', axis=1)\n",
    "y = data['Default']\n",
    "\n",
    "# Split the data into training and test sets\n",
    "X_train, X_test, y_train, y_test = train_test_split(X, y, test_size=0.2, random_state=42)\n",
    "\n",
    "# Scale the features using cuML's StandardScaler\n",
    "scaler = StandardScaler()\n",
    "X_train_scaled = scaler.fit_transform(X_train)\n",
    "X_test_scaled = scaler.transform(X_test)\n",
    "\n",
    "# Create and train the Logistic Regression model using cuML\n",
    "log_reg = LogisticRegression()\n",
    "log_reg.fit(X_train_scaled, y_train)\n",
    "\n",
    "# Evaluate the model\n",
    "train_accuracy = log_reg.score(X_train_scaled, y_train)\n",
    "test_accuracy = log_reg.score(X_test_scaled, y_test)\n",
    "print('Train accuracy:', train_accuracy)\n",
    "print('Test accuracy:', test_accuracy)\n",
    "\n",
    "# Make predictions on the new data\n",
    "new_data = cudf.read_csv(\"sortedNewApplicants.csv\")\n",
    "new_data_scaled = scaler.transform(new_data)\n",
    "new_predictions = log_reg.predict(new_data_scaled)\n",
    "\n",
    "# Print the predictions\n",
    "print('New predictions:', new_predictions.to_array())\n"
   ]
  }
 ],
 "metadata": {
  "kernelspec": {
   "display_name": "Python 3",
   "language": "python",
   "name": "python3"
  },
  "language_info": {
   "codemirror_mode": {
    "name": "ipython",
    "version": 3
   },
   "file_extension": ".py",
   "mimetype": "text/x-python",
   "name": "python",
   "nbconvert_exporter": "python",
   "pygments_lexer": "ipython3",
   "version": "3.11.5"
  }
 },
 "nbformat": 4,
 "nbformat_minor": 2
}
